{
 "cells": [
  {
   "cell_type": "code",
   "execution_count": 2,
   "metadata": {
    "collapsed": true
   },
   "outputs": [],
   "source": [
    "#How I achieved top 8% in the world on Kaggle Leaderboard on the Leaf Classification problem\n",
    "#Play and work with the tuning parameters to attain higher accuracy \n",
    "#The code I implemented is as follows:"
   ]
  },
  {
   "cell_type": "code",
   "execution_count": 3,
   "metadata": {
    "collapsed": true
   },
   "outputs": [],
   "source": [
    "#Import the necessary modules for doing the analysis\n",
    "\n",
    "\n",
    "#import pandas as pd\n",
    "#from sklearn.preprocessing import LabelEncoder\n",
    "#from sklearn.neural_network import MLPClassifier\n"
   ]
  },
  {
   "cell_type": "code",
   "execution_count": 4,
   "metadata": {
    "collapsed": true
   },
   "outputs": [],
   "source": [
    "#The Label Encoder module was brought up to convert the species type into categorical variables because python takes only numerical data into account for doing the analysis\n",
    "\n",
    "#We read the file from the source and then transform the species output into label encoded versions using fit and transform function\n"
   ]
  },
  {
   "cell_type": "code",
   "execution_count": 6,
   "metadata": {
    "collapsed": true
   },
   "outputs": [],
   "source": [
    "#train=pd.read_csv(\"enter your file path here\")\n",
    "#train.drop((\"id\"),inplace=True,axis=1)\n",
    "#encoded=LabelEncoder().fit(train.species)\n",
    "#encodedtrans=encoded.transform(train.species)"
   ]
  },
  {
   "cell_type": "code",
   "execution_count": 7,
   "metadata": {
    "collapsed": true
   },
   "outputs": [],
   "source": [
    "#Now drop the species column from train as we have encoded the labels and read the test data as well"
   ]
  },
  {
   "cell_type": "code",
   "execution_count": 8,
   "metadata": {
    "collapsed": true
   },
   "outputs": [],
   "source": [
    "#train.drop((\"species\"),axis=1,inplace=True)\n",
    "#testid=test[\"id\"]\n",
    "#test.drop((\"id\"),axis=1,inplace=True)"
   ]
  },
  {
   "cell_type": "code",
   "execution_count": 10,
   "metadata": {
    "collapsed": true
   },
   "outputs": [],
   "source": [
    "#Here I used deep learning artifical neural network algorithm called \"Multi-Layer Perceptron Classifer\" from the sklearn module using the solver \"lbfgs\" \n",
    "#Then this algorithm was fit on the training data with the following specified tuning paremeters"
   ]
  },
  {
   "cell_type": "code",
   "execution_count": 11,
   "metadata": {
    "collapsed": true
   },
   "outputs": [],
   "source": [
    "#clf = MLPClassifier(solver='lbfgs',hidden_layer_sizes=(6000,),activation='relu',learning_rate_init=0.0001,tol=0.00000000001,learning_rate='adaptive',max_iter=6000,momentum=0.3)"
   ]
  },
  {
   "cell_type": "code",
   "execution_count": 12,
   "metadata": {
    "collapsed": true
   },
   "outputs": [],
   "source": [
    "#The learning rate was minimized to make the algorithm stable\n"
   ]
  },
  {
   "cell_type": "code",
   "execution_count": 13,
   "metadata": {
    "collapsed": true
   },
   "outputs": [],
   "source": [
    "#clf.fit(train,encodedtrans)"
   ]
  },
  {
   "cell_type": "code",
   "execution_count": 14,
   "metadata": {
    "collapsed": true
   },
   "outputs": [],
   "source": [
    "#Then I did the prediction on the test data to find the probability of classes"
   ]
  },
  {
   "cell_type": "code",
   "execution_count": 15,
   "metadata": {
    "collapsed": true
   },
   "outputs": [],
   "source": [
    "#pred=clf.predict_proba(test)"
   ]
  },
  {
   "cell_type": "code",
   "execution_count": 16,
   "metadata": {
    "collapsed": true
   },
   "outputs": [],
   "source": [
    "#Then the results are stored as a pandas dataframe"
   ]
  },
  {
   "cell_type": "code",
   "execution_count": 17,
   "metadata": {
    "collapsed": true
   },
   "outputs": [],
   "source": [
    "#submission = pd.DataFrame(pre, index=testid, columns=encoded.classes_)"
   ]
  },
  {
   "cell_type": "code",
   "execution_count": 18,
   "metadata": {
    "collapsed": true
   },
   "outputs": [],
   "source": [
    "#Then finally this is the csv file that will take you to the top."
   ]
  },
  {
   "cell_type": "code",
   "execution_count": null,
   "metadata": {
    "collapsed": true
   },
   "outputs": [],
   "source": [
    "#submission.to_csv(\"leaf.csv\")"
   ]
  }
 ],
 "metadata": {
  "kernelspec": {
   "display_name": "Python [conda root]",
   "language": "python",
   "name": "conda-root-py"
  },
  "language_info": {
   "codemirror_mode": {
    "name": "ipython",
    "version": 3
   },
   "file_extension": ".py",
   "mimetype": "text/x-python",
   "name": "python",
   "nbconvert_exporter": "python",
   "pygments_lexer": "ipython3",
   "version": "3.5.2"
  }
 },
 "nbformat": 4,
 "nbformat_minor": 1
}
